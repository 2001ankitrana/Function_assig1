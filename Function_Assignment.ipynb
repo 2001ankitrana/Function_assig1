{
  "nbformat": 4,
  "nbformat_minor": 0,
  "metadata": {
    "colab": {
      "provenance": []
    },
    "kernelspec": {
      "name": "python3",
      "display_name": "Python 3"
    },
    "language_info": {
      "name": "python"
    }
  },
  "cells": [
    {
      "cell_type": "markdown",
      "source": [
        "**THEORY QUESTIONS**"
      ],
      "metadata": {
        "id": "WnLm24yLhrO3"
      }
    },
    {
      "cell_type": "markdown",
      "source": [
        "1/ What is difference between a function and a method in python?\n",
        "- Function:is a reusable block of code that perform a specific task.Functions can take input argument and return output values. eg. sum([1,2,3])\n",
        "\n",
        "Method:os a function that is associated with an object or class,methods are defined with in a class or an object and can be called in specific instance of that class. eg. my_list.append(2)"
      ],
      "metadata": {
        "id": "5vKquVAPn348"
      }
    },
    {
      "cell_type": "markdown",
      "source": [
        "2/ Explain the concept of function arguments and parameters in python.\n",
        "- Parameters:These variables listed in the parantheses of a function definition,they define the type and number of inputs a function can accept,and are part of the function's signature.Parameters can have default values.\n",
        "\n",
        "Arguments:These are the actual values passed to the function when it is called,arguments can be any scope,including variables that exist outside the function or literals.Arguments do not have default values.\n",
        "different types of arguments are: default,keyword,positional,arbitrary positional and arbitrary keyword arguments.\n"
      ],
      "metadata": {
        "id": "Nn4FdOHhpbbl"
      }
    },
    {
      "cell_type": "markdown",
      "source": [
        "3/ What are the different ways to define and call a function in python?\n",
        "- For defining function different ways are: use the keyword (def) to declare the function, add the function name, add parameters in parentheses, end the line with a colon, add statements for the function to execute.\n",
        "\n",
        "For calling a function: uses the function's name followed by parentheses my_function(),use dict(),use partial()function,use eval(),use global(),use getattr().\n"
      ],
      "metadata": {
        "id": "_T5NFyRXr4gk"
      }
    },
    {
      "cell_type": "markdown",
      "source": [
        "4/ What is the purpose of return statement in a python function?\n",
        "- The purpose of return statement in a python function is to specify the function's output and send it back to the caller:\n",
        "\n",
        "End the function- the return statement marks the end of a function and returns control to the calling function.\n",
        "\n",
        "Return a value- the return statement specifies the value or values to pass back from function, the returned value can be any python object, including integers,floats,strings and even other functions.\n",
        "\n",
        "Allow for further computation- the program can use the output of function for further computation or storage.\n",
        "\n",
        "eg. add_numbers: take two numbers a and b calulates their sum and return the result using the return statement."
      ],
      "metadata": {
        "id": "y2DBHHFBtz0U"
      }
    },
    {
      "cell_type": "markdown",
      "source": [
        "5/ What are iterators in python and how they differ from iterables?\n",
        "- An iterator is an object that contains a countable number of values, an iterator is an object that can iterated upon,meaning that can be traverse through all the values.Technically, in python an iterator is an object which implements the iterator protocol,which consist if the methods_iter_()and_next_().\n",
        "\n",
        "The iterators powers and control the itreation process,while itreables typically hold data that we want to iterate over one value at a time."
      ],
      "metadata": {
        "id": "W246hBSOvzDU"
      }
    },
    {
      "cell_type": "markdown",
      "source": [
        "6/ Explain the concept of generators in a python and how they are defined.\n",
        "- Generators return data in an itrable format,allowing the sequence to be iterated over,much like a list or tuples.\n",
        "\n",
        "These are simple way to create iterators using function and the yield keyword instead of returning values.\n",
        "\n",
        "The generators are defined using the **def** keyword,like a regular function,but instead of returning a value with return,it uses yield.\n"
      ],
      "metadata": {
        "id": "SII5UGZPxm7p"
      }
    },
    {
      "cell_type": "markdown",
      "source": [
        "7/ What are advantages of using generators over regular functions?\n",
        "- Generators have several advantages over regular functions are:\n",
        "\n",
        "Memory efficiency- generators only evaluates the code that's needed,so they use less memory than regular functions.\n",
        "\n",
        "Improved performance- generators can be faster than regular functions because thay avoid the overhead of reating a list or other data structure to store the results.\n",
        "\n",
        "Lazy loading- generators can be used to lazy load data which means that the data is not loaded until it is actually needed.\n",
        "\n",
        "Infinite sequences- these were make it easy to create infinite sequences by allowing pausing and resuming.\n",
        "\n",
        "Readibility- generators can make uor code easier to read and understand."
      ],
      "metadata": {
        "id": "6xCot3DHzqdd"
      }
    },
    {
      "cell_type": "markdown",
      "source": [
        "8/ What is lambda function in python and when it is typically used?\n",
        "- Lambda function are small,anonymous function defined using lambda keyword used for creating small functions without the need of formally define a function using def.\n",
        "These are efficient whenever we want to create a function that will only contain simple expressions.\n",
        "\n",
        "These were used when we need to create small functions,\n",
        "eg. we use lambdas to create key functions for sorting itrables, or to define lexial closures, we should use lambdas to create simple expressions, and avoiding using them for complex structures like if-else or for-loops."
      ],
      "metadata": {
        "id": "_AKI4OAT3ZAy"
      }
    },
    {
      "cell_type": "markdown",
      "source": [
        "9/ Explain the purpose of usage of map() function in python.\n",
        "- map() in python is a function that works as an iterator to return a result after applying a function to every item of an iterable(tuple,lists,et.),it is used when you want to apply a single transformation function to all the iterable elements.\n",
        "\n",
        "We use it because it map every item in an input iterable to a new item in a resultant iterable,the action performed by map() is usually reffered to as mapping. map(function,iterable)"
      ],
      "metadata": {
        "id": "zZxRUbWjWOaO"
      }
    },
    {
      "cell_type": "markdown",
      "source": [
        "10/ What is difference between map(),reduce(),filter() functions in python?\n",
        "- map(): The map function is a function that works as an iterator to return a result after applyting a function to every item of an iterable which is tuple or list.\n",
        "\n",
        "reduce(): The reduce function reduce from the function tools module applies a given function cumulatively to the items of a sequence, from left-right,to rduce the sequence to a single value.\n",
        "\n",
        "filter(): The filter() function constructs an iterator from elements of an iterable for which a specified function returns true.\n"
      ],
      "metadata": {
        "id": "2c8YCF0rYAq2"
      }
    },
    {
      "cell_type": "markdown",
      "source": [
        "11/ Paper image attachment"
      ],
      "metadata": {
        "id": "rvHRBsydhDcU"
      }
    },
    {
      "cell_type": "code",
      "source": [
        "from google.colab import files\n",
        "uploaded = files.upload()"
      ],
      "metadata": {
        "colab": {
          "base_uri": "https://localhost:8080/",
          "height": 73
        },
        "id": "MJEf2QDphLJH",
        "outputId": "ceed4031-0b73-4389-e790-91ce88ce5ced"
      },
      "execution_count": 4,
      "outputs": [
        {
          "output_type": "display_data",
          "data": {
            "text/plain": [
              "<IPython.core.display.HTML object>"
            ],
            "text/html": [
              "\n",
              "     <input type=\"file\" id=\"files-725ecbbb-fb67-49cc-82d1-cc15a4aa848c\" name=\"files[]\" multiple disabled\n",
              "        style=\"border:none\" />\n",
              "     <output id=\"result-725ecbbb-fb67-49cc-82d1-cc15a4aa848c\">\n",
              "      Upload widget is only available when the cell has been executed in the\n",
              "      current browser session. Please rerun this cell to enable.\n",
              "      </output>\n",
              "      <script>// Copyright 2017 Google LLC\n",
              "//\n",
              "// Licensed under the Apache License, Version 2.0 (the \"License\");\n",
              "// you may not use this file except in compliance with the License.\n",
              "// You may obtain a copy of the License at\n",
              "//\n",
              "//      http://www.apache.org/licenses/LICENSE-2.0\n",
              "//\n",
              "// Unless required by applicable law or agreed to in writing, software\n",
              "// distributed under the License is distributed on an \"AS IS\" BASIS,\n",
              "// WITHOUT WARRANTIES OR CONDITIONS OF ANY KIND, either express or implied.\n",
              "// See the License for the specific language governing permissions and\n",
              "// limitations under the License.\n",
              "\n",
              "/**\n",
              " * @fileoverview Helpers for google.colab Python module.\n",
              " */\n",
              "(function(scope) {\n",
              "function span(text, styleAttributes = {}) {\n",
              "  const element = document.createElement('span');\n",
              "  element.textContent = text;\n",
              "  for (const key of Object.keys(styleAttributes)) {\n",
              "    element.style[key] = styleAttributes[key];\n",
              "  }\n",
              "  return element;\n",
              "}\n",
              "\n",
              "// Max number of bytes which will be uploaded at a time.\n",
              "const MAX_PAYLOAD_SIZE = 100 * 1024;\n",
              "\n",
              "function _uploadFiles(inputId, outputId) {\n",
              "  const steps = uploadFilesStep(inputId, outputId);\n",
              "  const outputElement = document.getElementById(outputId);\n",
              "  // Cache steps on the outputElement to make it available for the next call\n",
              "  // to uploadFilesContinue from Python.\n",
              "  outputElement.steps = steps;\n",
              "\n",
              "  return _uploadFilesContinue(outputId);\n",
              "}\n",
              "\n",
              "// This is roughly an async generator (not supported in the browser yet),\n",
              "// where there are multiple asynchronous steps and the Python side is going\n",
              "// to poll for completion of each step.\n",
              "// This uses a Promise to block the python side on completion of each step,\n",
              "// then passes the result of the previous step as the input to the next step.\n",
              "function _uploadFilesContinue(outputId) {\n",
              "  const outputElement = document.getElementById(outputId);\n",
              "  const steps = outputElement.steps;\n",
              "\n",
              "  const next = steps.next(outputElement.lastPromiseValue);\n",
              "  return Promise.resolve(next.value.promise).then((value) => {\n",
              "    // Cache the last promise value to make it available to the next\n",
              "    // step of the generator.\n",
              "    outputElement.lastPromiseValue = value;\n",
              "    return next.value.response;\n",
              "  });\n",
              "}\n",
              "\n",
              "/**\n",
              " * Generator function which is called between each async step of the upload\n",
              " * process.\n",
              " * @param {string} inputId Element ID of the input file picker element.\n",
              " * @param {string} outputId Element ID of the output display.\n",
              " * @return {!Iterable<!Object>} Iterable of next steps.\n",
              " */\n",
              "function* uploadFilesStep(inputId, outputId) {\n",
              "  const inputElement = document.getElementById(inputId);\n",
              "  inputElement.disabled = false;\n",
              "\n",
              "  const outputElement = document.getElementById(outputId);\n",
              "  outputElement.innerHTML = '';\n",
              "\n",
              "  const pickedPromise = new Promise((resolve) => {\n",
              "    inputElement.addEventListener('change', (e) => {\n",
              "      resolve(e.target.files);\n",
              "    });\n",
              "  });\n",
              "\n",
              "  const cancel = document.createElement('button');\n",
              "  inputElement.parentElement.appendChild(cancel);\n",
              "  cancel.textContent = 'Cancel upload';\n",
              "  const cancelPromise = new Promise((resolve) => {\n",
              "    cancel.onclick = () => {\n",
              "      resolve(null);\n",
              "    };\n",
              "  });\n",
              "\n",
              "  // Wait for the user to pick the files.\n",
              "  const files = yield {\n",
              "    promise: Promise.race([pickedPromise, cancelPromise]),\n",
              "    response: {\n",
              "      action: 'starting',\n",
              "    }\n",
              "  };\n",
              "\n",
              "  cancel.remove();\n",
              "\n",
              "  // Disable the input element since further picks are not allowed.\n",
              "  inputElement.disabled = true;\n",
              "\n",
              "  if (!files) {\n",
              "    return {\n",
              "      response: {\n",
              "        action: 'complete',\n",
              "      }\n",
              "    };\n",
              "  }\n",
              "\n",
              "  for (const file of files) {\n",
              "    const li = document.createElement('li');\n",
              "    li.append(span(file.name, {fontWeight: 'bold'}));\n",
              "    li.append(span(\n",
              "        `(${file.type || 'n/a'}) - ${file.size} bytes, ` +\n",
              "        `last modified: ${\n",
              "            file.lastModifiedDate ? file.lastModifiedDate.toLocaleDateString() :\n",
              "                                    'n/a'} - `));\n",
              "    const percent = span('0% done');\n",
              "    li.appendChild(percent);\n",
              "\n",
              "    outputElement.appendChild(li);\n",
              "\n",
              "    const fileDataPromise = new Promise((resolve) => {\n",
              "      const reader = new FileReader();\n",
              "      reader.onload = (e) => {\n",
              "        resolve(e.target.result);\n",
              "      };\n",
              "      reader.readAsArrayBuffer(file);\n",
              "    });\n",
              "    // Wait for the data to be ready.\n",
              "    let fileData = yield {\n",
              "      promise: fileDataPromise,\n",
              "      response: {\n",
              "        action: 'continue',\n",
              "      }\n",
              "    };\n",
              "\n",
              "    // Use a chunked sending to avoid message size limits. See b/62115660.\n",
              "    let position = 0;\n",
              "    do {\n",
              "      const length = Math.min(fileData.byteLength - position, MAX_PAYLOAD_SIZE);\n",
              "      const chunk = new Uint8Array(fileData, position, length);\n",
              "      position += length;\n",
              "\n",
              "      const base64 = btoa(String.fromCharCode.apply(null, chunk));\n",
              "      yield {\n",
              "        response: {\n",
              "          action: 'append',\n",
              "          file: file.name,\n",
              "          data: base64,\n",
              "        },\n",
              "      };\n",
              "\n",
              "      let percentDone = fileData.byteLength === 0 ?\n",
              "          100 :\n",
              "          Math.round((position / fileData.byteLength) * 100);\n",
              "      percent.textContent = `${percentDone}% done`;\n",
              "\n",
              "    } while (position < fileData.byteLength);\n",
              "  }\n",
              "\n",
              "  // All done.\n",
              "  yield {\n",
              "    response: {\n",
              "      action: 'complete',\n",
              "    }\n",
              "  };\n",
              "}\n",
              "\n",
              "scope.google = scope.google || {};\n",
              "scope.google.colab = scope.google.colab || {};\n",
              "scope.google.colab._files = {\n",
              "  _uploadFiles,\n",
              "  _uploadFilesContinue,\n",
              "};\n",
              "})(self);\n",
              "</script> "
            ]
          },
          "metadata": {}
        },
        {
          "output_type": "stream",
          "name": "stdout",
          "text": [
            "Saving IMG-20241020-WA0000.jpg to IMG-20241020-WA0000.jpg\n"
          ]
        }
      ]
    },
    {
      "cell_type": "markdown",
      "source": [],
      "metadata": {
        "id": "SG_R7Pcce82J"
      }
    },
    {
      "cell_type": "markdown",
      "source": [
        "# **PRACTICAL QUESTIONS**"
      ],
      "metadata": {
        "id": "2j_cr6ydZk9T"
      }
    },
    {
      "cell_type": "markdown",
      "source": [
        "1/ Write a python function that takes a list of numbers as input and returns the sum of all even numbers in the list."
      ],
      "metadata": {
        "id": "e6uYcVyHc-dW"
      }
    },
    {
      "cell_type": "code",
      "source": [
        "mylist = [1,2,3,4,5,6,7,8,9,10,11,12,13,14,15,16,17,18,19,20]\n",
        "evensum = 0\n",
        "for num in mylist:\n",
        "  if num % 2 == 0:\n",
        "    evensum = evensum + num\n",
        "    print(evensum)\n"
      ],
      "metadata": {
        "colab": {
          "base_uri": "https://localhost:8080/"
        },
        "id": "PS-L-XlndW1u",
        "outputId": "72115d75-11c2-4fc1-a0c9-344e5cabf2e0"
      },
      "execution_count": null,
      "outputs": [
        {
          "output_type": "stream",
          "name": "stdout",
          "text": [
            "2\n",
            "6\n",
            "12\n",
            "20\n",
            "30\n",
            "42\n",
            "56\n",
            "72\n",
            "90\n",
            "110\n"
          ]
        }
      ]
    },
    {
      "cell_type": "markdown",
      "source": [
        "2/ Create a python function that accepts a string and returns the reverse of that string."
      ],
      "metadata": {
        "id": "Uo81Li5rgZY5"
      }
    },
    {
      "cell_type": "code",
      "source": [
        "\n",
        "def reverse_string(str):\n",
        "    str1 = \"\"\n",
        "    for i in str:\n",
        "        str1 = i + str1\n",
        "    return str1\n",
        "\n",
        "str=\"hello world become my friend\"\n",
        "print(\"The original string is: \",str)\n",
        "print(\"The reverse string is: \",reverse_string(str))"
      ],
      "metadata": {
        "colab": {
          "base_uri": "https://localhost:8080/"
        },
        "id": "S562dMj3gsZl",
        "outputId": "3dc78a12-359b-42e8-dfdb-76a5de0460c6"
      },
      "execution_count": null,
      "outputs": [
        {
          "output_type": "stream",
          "name": "stdout",
          "text": [
            "The original string is:  hello world become my friend\n",
            "The reverse string is:  dneirf ym emoceb dlrow olleh\n"
          ]
        }
      ]
    },
    {
      "cell_type": "markdown",
      "source": [
        "3/ Implement a python function that takes a list of integers and return a new list containing the square of each number."
      ],
      "metadata": {
        "id": "fEl_ix0Pminz"
      }
    },
    {
      "cell_type": "code",
      "source": [
        "lst=[2,23,2,34,23.4,23]\n",
        "new_lst=[]\n",
        "for i in lst:\n",
        "  new_lst.append(i**2)\n",
        "print(new_lst)"
      ],
      "metadata": {
        "colab": {
          "base_uri": "https://localhost:8080/"
        },
        "id": "m--pAv02ny_y",
        "outputId": "7cdcb2d9-dd33-4084-df00-ed1074970c05"
      },
      "execution_count": null,
      "outputs": [
        {
          "output_type": "stream",
          "name": "stdout",
          "text": [
            "[4, 529, 4, 1156, 547.56, 529]\n"
          ]
        }
      ]
    },
    {
      "cell_type": "code",
      "source": [
        "lst=[2,23,2,34,23.4,23]\n",
        "print(list(map(lambda x:x**2,lst)))\n"
      ],
      "metadata": {
        "colab": {
          "base_uri": "https://localhost:8080/"
        },
        "id": "W_3m-FtAqQok",
        "outputId": "d0da0cf2-e234-4f42-8c76-f192a4d7a14b"
      },
      "execution_count": null,
      "outputs": [
        {
          "output_type": "stream",
          "name": "stdout",
          "text": [
            "[4, 529, 4, 1156, 547.56, 529]\n"
          ]
        }
      ]
    },
    {
      "cell_type": "markdown",
      "source": [
        "4/ write a python function that cheks if a given number is prime or not from 1 to 200."
      ],
      "metadata": {
        "id": "gaiXr56dq2fC"
      }
    },
    {
      "cell_type": "code",
      "source": [
        "for x in range(1,200):\n",
        "  if x>1:\n",
        "    for i in range(2,x):\n",
        "      if(x%i)==0:\n",
        "        print(x,\"is not a prime number\")\n",
        "        break\n",
        "    else:\n",
        "      print(x,\"is a prime number\")\n",
        "\n",
        "\n",
        "\n",
        "\n"
      ],
      "metadata": {
        "colab": {
          "base_uri": "https://localhost:8080/"
        },
        "id": "rbuoj1pAsJ9r",
        "outputId": "f184f4f6-a2ad-4c79-d4dd-f163fb9271c9"
      },
      "execution_count": null,
      "outputs": [
        {
          "output_type": "stream",
          "name": "stdout",
          "text": [
            "2 is a prime number\n",
            "3 is a prime number\n",
            "4 is not a prime number\n",
            "5 is a prime number\n",
            "6 is not a prime number\n",
            "7 is a prime number\n",
            "8 is not a prime number\n",
            "9 is not a prime number\n",
            "10 is not a prime number\n",
            "11 is a prime number\n",
            "12 is not a prime number\n",
            "13 is a prime number\n",
            "14 is not a prime number\n",
            "15 is not a prime number\n",
            "16 is not a prime number\n",
            "17 is a prime number\n",
            "18 is not a prime number\n",
            "19 is a prime number\n",
            "20 is not a prime number\n",
            "21 is not a prime number\n",
            "22 is not a prime number\n",
            "23 is a prime number\n",
            "24 is not a prime number\n",
            "25 is not a prime number\n",
            "26 is not a prime number\n",
            "27 is not a prime number\n",
            "28 is not a prime number\n",
            "29 is a prime number\n",
            "30 is not a prime number\n",
            "31 is a prime number\n",
            "32 is not a prime number\n",
            "33 is not a prime number\n",
            "34 is not a prime number\n",
            "35 is not a prime number\n",
            "36 is not a prime number\n",
            "37 is a prime number\n",
            "38 is not a prime number\n",
            "39 is not a prime number\n",
            "40 is not a prime number\n",
            "41 is a prime number\n",
            "42 is not a prime number\n",
            "43 is a prime number\n",
            "44 is not a prime number\n",
            "45 is not a prime number\n",
            "46 is not a prime number\n",
            "47 is a prime number\n",
            "48 is not a prime number\n",
            "49 is not a prime number\n",
            "50 is not a prime number\n",
            "51 is not a prime number\n",
            "52 is not a prime number\n",
            "53 is a prime number\n",
            "54 is not a prime number\n",
            "55 is not a prime number\n",
            "56 is not a prime number\n",
            "57 is not a prime number\n",
            "58 is not a prime number\n",
            "59 is a prime number\n",
            "60 is not a prime number\n",
            "61 is a prime number\n",
            "62 is not a prime number\n",
            "63 is not a prime number\n",
            "64 is not a prime number\n",
            "65 is not a prime number\n",
            "66 is not a prime number\n",
            "67 is a prime number\n",
            "68 is not a prime number\n",
            "69 is not a prime number\n",
            "70 is not a prime number\n",
            "71 is a prime number\n",
            "72 is not a prime number\n",
            "73 is a prime number\n",
            "74 is not a prime number\n",
            "75 is not a prime number\n",
            "76 is not a prime number\n",
            "77 is not a prime number\n",
            "78 is not a prime number\n",
            "79 is a prime number\n",
            "80 is not a prime number\n",
            "81 is not a prime number\n",
            "82 is not a prime number\n",
            "83 is a prime number\n",
            "84 is not a prime number\n",
            "85 is not a prime number\n",
            "86 is not a prime number\n",
            "87 is not a prime number\n",
            "88 is not a prime number\n",
            "89 is a prime number\n",
            "90 is not a prime number\n",
            "91 is not a prime number\n",
            "92 is not a prime number\n",
            "93 is not a prime number\n",
            "94 is not a prime number\n",
            "95 is not a prime number\n",
            "96 is not a prime number\n",
            "97 is a prime number\n",
            "98 is not a prime number\n",
            "99 is not a prime number\n",
            "100 is not a prime number\n",
            "101 is a prime number\n",
            "102 is not a prime number\n",
            "103 is a prime number\n",
            "104 is not a prime number\n",
            "105 is not a prime number\n",
            "106 is not a prime number\n",
            "107 is a prime number\n",
            "108 is not a prime number\n",
            "109 is a prime number\n",
            "110 is not a prime number\n",
            "111 is not a prime number\n",
            "112 is not a prime number\n",
            "113 is a prime number\n",
            "114 is not a prime number\n",
            "115 is not a prime number\n",
            "116 is not a prime number\n",
            "117 is not a prime number\n",
            "118 is not a prime number\n",
            "119 is not a prime number\n",
            "120 is not a prime number\n",
            "121 is not a prime number\n",
            "122 is not a prime number\n",
            "123 is not a prime number\n",
            "124 is not a prime number\n",
            "125 is not a prime number\n",
            "126 is not a prime number\n",
            "127 is a prime number\n",
            "128 is not a prime number\n",
            "129 is not a prime number\n",
            "130 is not a prime number\n",
            "131 is a prime number\n",
            "132 is not a prime number\n",
            "133 is not a prime number\n",
            "134 is not a prime number\n",
            "135 is not a prime number\n",
            "136 is not a prime number\n",
            "137 is a prime number\n",
            "138 is not a prime number\n",
            "139 is a prime number\n",
            "140 is not a prime number\n",
            "141 is not a prime number\n",
            "142 is not a prime number\n",
            "143 is not a prime number\n",
            "144 is not a prime number\n",
            "145 is not a prime number\n",
            "146 is not a prime number\n",
            "147 is not a prime number\n",
            "148 is not a prime number\n",
            "149 is a prime number\n",
            "150 is not a prime number\n",
            "151 is a prime number\n",
            "152 is not a prime number\n",
            "153 is not a prime number\n",
            "154 is not a prime number\n",
            "155 is not a prime number\n",
            "156 is not a prime number\n",
            "157 is a prime number\n",
            "158 is not a prime number\n",
            "159 is not a prime number\n",
            "160 is not a prime number\n",
            "161 is not a prime number\n",
            "162 is not a prime number\n",
            "163 is a prime number\n",
            "164 is not a prime number\n",
            "165 is not a prime number\n",
            "166 is not a prime number\n",
            "167 is a prime number\n",
            "168 is not a prime number\n",
            "169 is not a prime number\n",
            "170 is not a prime number\n",
            "171 is not a prime number\n",
            "172 is not a prime number\n",
            "173 is a prime number\n",
            "174 is not a prime number\n",
            "175 is not a prime number\n",
            "176 is not a prime number\n",
            "177 is not a prime number\n",
            "178 is not a prime number\n",
            "179 is a prime number\n",
            "180 is not a prime number\n",
            "181 is a prime number\n",
            "182 is not a prime number\n",
            "183 is not a prime number\n",
            "184 is not a prime number\n",
            "185 is not a prime number\n",
            "186 is not a prime number\n",
            "187 is not a prime number\n",
            "188 is not a prime number\n",
            "189 is not a prime number\n",
            "190 is not a prime number\n",
            "191 is a prime number\n",
            "192 is not a prime number\n",
            "193 is a prime number\n",
            "194 is not a prime number\n",
            "195 is not a prime number\n",
            "196 is not a prime number\n",
            "197 is a prime number\n",
            "198 is not a prime number\n",
            "199 is a prime number\n"
          ]
        }
      ]
    },
    {
      "cell_type": "markdown",
      "source": [
        "5/ Create an iterator class in python that genertes the Fibonacci sequence up to a specified number of terms."
      ],
      "metadata": {
        "id": "_NFxYOs7_jeM"
      }
    },
    {
      "cell_type": "code",
      "source": [
        "\n",
        "num=int(input(\"Enter number :- \"))\n",
        "\n",
        "print(\"below is a fibonacci sequence...\")\n",
        "\n",
        "a,b=0,1\n",
        "\n",
        "for i in range(0,num):\n",
        "    if i<=1:\n",
        "        print(i)\n",
        "    else:\n",
        "        result=a+b\n",
        "        a=b\n",
        "        b=result\n",
        "        print(result)"
      ],
      "metadata": {
        "colab": {
          "base_uri": "https://localhost:8080/"
        },
        "id": "rEgN7f3zDOKb",
        "outputId": "63ade59f-81d1-4a96-ec14-5600855ffae3"
      },
      "execution_count": null,
      "outputs": [
        {
          "output_type": "stream",
          "name": "stdout",
          "text": [
            "Enter number :- 5\n",
            "below is a fibonacci sequence...\n",
            "0\n",
            "1\n",
            "1\n",
            "2\n",
            "3\n"
          ]
        }
      ]
    },
    {
      "cell_type": "markdown",
      "source": [
        "6/ Write a generator function in python that yields the power of 2 up to a given exponent."
      ],
      "metadata": {
        "id": "uOxj77u_Fc2c"
      }
    },
    {
      "cell_type": "code",
      "source": [
        "def generator_fuction(n):\n",
        "  for i in range(n):\n",
        "    yield 2**i\n",
        "gen = generator_fuction(10)\n",
        "result = [x for x in gen if x%2==0]\n",
        "print(result)\n"
      ],
      "metadata": {
        "colab": {
          "base_uri": "https://localhost:8080/"
        },
        "id": "Z4NgYRiCuxor",
        "outputId": "835265ce-4d0a-41cc-da33-f53a5fdb017e"
      },
      "execution_count": null,
      "outputs": [
        {
          "output_type": "stream",
          "name": "stdout",
          "text": [
            "[2, 4, 8, 16, 32, 64, 128, 256, 512]\n"
          ]
        }
      ]
    },
    {
      "cell_type": "markdown",
      "source": [
        "7/ Implement a generator function that reads a file line by line and yields each line as a string."
      ],
      "metadata": {
        "id": "YeaHXQ7Ewr8f"
      }
    },
    {
      "cell_type": "code",
      "source": [
        "def read_file_line_by_line(file_path):\n",
        "    with open('example.txt', 'w') as f:\n",
        "       f.write('hello world.\\n')\n",
        "       f.write('how are you?\\n')\n",
        "       f.write('i am fine.\\n')\n",
        "\n",
        "    with open('example.txt', 'r') as f:\n",
        "        for line in f:\n",
        "            yield line.strip()\n",
        "\n",
        "file_path = 'example.txt'\n",
        "for line in read_file_line_by_line(file_path):\n",
        "    print(line)\n"
      ],
      "metadata": {
        "colab": {
          "base_uri": "https://localhost:8080/"
        },
        "id": "ki849uFYxNO8",
        "outputId": "cf50187d-a40a-459f-9037-fe5625639ab3"
      },
      "execution_count": null,
      "outputs": [
        {
          "output_type": "stream",
          "name": "stdout",
          "text": [
            "hello world.\n",
            "how are you?\n",
            "i am fine.\n"
          ]
        }
      ]
    },
    {
      "cell_type": "markdown",
      "source": [
        "8/ Use lambda function in python to sort a list of tuples based on second element of each tuple."
      ],
      "metadata": {
        "id": "0pua2VVW5z-9"
      }
    },
    {
      "cell_type": "code",
      "source": [
        "# sort a tuple by second element\n",
        "\n",
        "students = (\n",
        "    ('Ankit', 45),\n",
        "    ('Mohit', 30),\n",
        "    ('Jubin', 50),\n",
        "    ('Rahul', 20),\n",
        "    ('Vikas', 10)\n",
        ")\n",
        "print(sorted(students))\n",
        "print(sorted(students, key=lambda x: x[1]))"
      ],
      "metadata": {
        "id": "xTWadck42749",
        "colab": {
          "base_uri": "https://localhost:8080/"
        },
        "outputId": "d96f5b63-e031-4246-b3f5-c0d292b75615"
      },
      "execution_count": null,
      "outputs": [
        {
          "output_type": "stream",
          "name": "stdout",
          "text": [
            "[('Ankit', 45), ('Jubin', 50), ('Mohit', 30), ('Rahul', 20), ('Vikas', 10)]\n",
            "[('Vikas', 10), ('Rahul', 20), ('Mohit', 30), ('Ankit', 45), ('Jubin', 50)]\n"
          ]
        }
      ]
    },
    {
      "cell_type": "markdown",
      "source": [
        "9/ Write python program that uses map() to convert a list of temperature from celsius to fahrenheit."
      ],
      "metadata": {
        "id": "uV5Mu0ZA6Qu1"
      }
    },
    {
      "cell_type": "code",
      "source": [
        "def celcius_to_fahrenheit(celcius):\n",
        "  return (celcius * 9/5) + 32\n",
        "temperatures_celcius = [10,20,30,40,50]\n",
        "temperatures_fahrenheit = list(map(celcius_to_fahrenheit,temperatures_celcius))\n",
        "print(temperatures_fahrenheit)"
      ],
      "metadata": {
        "id": "xvI70a6Q6oLx",
        "colab": {
          "base_uri": "https://localhost:8080/"
        },
        "outputId": "fb6e0446-8689-4b36-ee21-b612a328d756"
      },
      "execution_count": null,
      "outputs": [
        {
          "output_type": "stream",
          "name": "stdout",
          "text": [
            "[50.0, 68.0, 86.0, 104.0, 122.0]\n"
          ]
        }
      ]
    },
    {
      "cell_type": "markdown",
      "source": [
        "10/ Create a python program that uses filter() to remove all the vowles from a given string."
      ],
      "metadata": {
        "id": "DpoX_CnS6o3n"
      }
    },
    {
      "cell_type": "code",
      "source": [
        "a_string = \"hello world love you\"\n",
        "vowel = ['a','e','i','o','u']\n",
        "def is_consonent(char):\n",
        "  return char.isalpha() and char.lower() not in vowel\n",
        "filtered_str = filter(is_consonent, a_string)\n",
        "\n",
        "only_consonent = ''.join(filtered_str)\n",
        "print(only_consonent)"
      ],
      "metadata": {
        "colab": {
          "base_uri": "https://localhost:8080/"
        },
        "id": "nERV6WJc8T6b",
        "outputId": "c294d418-43a7-4f70-d16c-7d48c2a65754"
      },
      "execution_count": null,
      "outputs": [
        {
          "output_type": "stream",
          "name": "stdout",
          "text": [
            "hllwrldlvy\n"
          ]
        }
      ]
    },
    {
      "cell_type": "markdown",
      "source": [
        "11/ write python program using lambda and map."
      ],
      "metadata": {
        "id": "PFOSCPtduxXd"
      }
    },
    {
      "cell_type": "code",
      "source": [
        "orders = [  [\"34587\", \"Learning Python, Mark Lutz\", 4, 40.95],\n",
        "[\"98762\", \"Programming Python, Mark Lutz\", 5, 56.80],\n",
        "[\"77226\", \"Head First Python, Paul Barry\", 3, 32.95],\n",
        "[\"88112\", \"Einfuhrung in Python3, Bernd Klein\", 3, 24.99] ]\n",
        "\n",
        "min_order = 100\n",
        "invoice_totals = list(map(lambda x: x if x[1] >= min_order else (x[0], x[1] + 10),\n",
        "\n",
        "                          map(lambda x: (x[0],x[2] * x[3]), orders)))\n",
        "print(invoice_totals)\n",
        "\n",
        "\n",
        "\n"
      ],
      "metadata": {
        "id": "jtsEU7reve5e",
        "colab": {
          "base_uri": "https://localhost:8080/"
        },
        "outputId": "d0a6c782-d8a0-48b9-d177-6a0e1a7ba565"
      },
      "execution_count": 3,
      "outputs": [
        {
          "output_type": "stream",
          "name": "stdout",
          "text": [
            "[('34587', 163.8), ('98762', 284.0), ('77226', 108.85000000000001), ('88112', 84.97)]\n"
          ]
        }
      ]
    }
  ]
}